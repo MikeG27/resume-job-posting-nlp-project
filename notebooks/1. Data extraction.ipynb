{
 "cells": [
  {
   "cell_type": "markdown",
   "metadata": {},
   "source": [
    "# Extracting Raw Text from Job Posting HTML Web Pages"
   ]
  },
  {
   "cell_type": "markdown",
   "metadata": {},
   "source": [
    "## Objective \n",
    "\n",
    "Extract relevant sections of the job posting webpages for similarity comparison with our resume and analysis of skills missing from our resume. Your pandas DataFrame might look like this once completed:"
   ]
  },
  {
   "cell_type": "markdown",
   "metadata": {},
   "source": [
    "Hint: Where do most of the required skills end up showing up? Which HTML tags typically contain the skills requirements for jobs?"
   ]
  },
  {
   "cell_type": "markdown",
   "metadata": {},
   "source": [
    "## Workflow \n",
    "\n",
    "1. Obtain the HTML job posting pages from the GitHub repository. Examine some HTML pages manually by opening them in a browser and inspecting the HTML elements (e.g., ctrl+shift+i in many browsers or right click on the page and choose “inspect”). Determine which sections should be extracted and stored.\n",
    "**Hint: Where do most of the required skills end up showing up? Which HTML tags typically contain the skills requirements for jobs?**\n",
    "2. Load all webpages into Python as strings using any method.\n",
    "Be sure to check for exact duplicate HTML pages and remove them. **It may be easier to remove duplicate entries once you have the data in a pandas DataFrame.**\n",
    "3. Store the webpage sections identified in step 1 (e.g., the title, body, and bullet points) into a pandas DataFrame with sensible column names.\n",
    "**Examine some of the data in the DataFrame to make sure the data extraction worked as we expect.**\n",
    "4. Filter the jobs to only include data science jobs. Since we already have our data in a pandas DataFrame, this can be done using pandas.\n",
    "5. Save the DataFrame to disk so we can load it at a later time for future parts of the project."
   ]
  },
  {
   "cell_type": "code",
   "execution_count": 1,
   "metadata": {},
   "outputs": [],
   "source": [
    "import os\n",
    "import pandas as pd\n",
    "import sys\n",
    "sys.path.append('/home/michal/Desktop/resume-job-posting-nlp-project/src')\n",
    "from bs4 import BeautifulSoup as bs\n",
    "from utils import render,read_html_from_file, show_result_with"
   ]
  },
  {
   "cell_type": "code",
   "execution_count": 2,
   "metadata": {},
   "outputs": [
    {
     "data": {
      "text/plain": [
       "'/home/michal/Desktop/resume-job-posting-nlp-project/notebooks'"
      ]
     },
     "execution_count": 2,
     "metadata": {},
     "output_type": "execute_result"
    }
   ],
   "source": [
    "#os.chdir(\"../data/html_job_postings/\")\n",
    "os.getcwd()"
   ]
  },
  {
   "cell_type": "markdown",
   "metadata": {},
   "source": [
    "## Check html visually :  \n",
    "\n",
    "Where do most of the required skills end up showing up? Which HTML tags typically contain the skills requirements for jobs?"
   ]
  },
  {
   "cell_type": "code",
   "execution_count": 3,
   "metadata": {},
   "outputs": [],
   "source": [
    "os.chdir(\"../data/html_job_postings/\")"
   ]
  },
  {
   "cell_type": "code",
   "execution_count": 4,
   "metadata": {
    "scrolled": true
   },
   "outputs": [
    {
     "data": {
      "text/html": [
       "<html><head><title>Transit Service Development Specialist I - San Jose, CA 95134</title></head>\n",
       "<body><h2>Transit Service Development Specialist I - San Jose, CA 95134</h2>\n",
       "<div><div><div><b>Definition</b></div>\n",
       "Initially, under close supervision, a Transit Service Development Specialist I assists in the assembly and analysis of transit performance data; modifies transit routes and schedules; assists in the preparation of materials for the operator bid process; prepares reports; and makes presentations.<br/>\n",
       "<br/>\n",
       "<b>Distinguishing Characteristics</b><br/>\n",
       "This classification differs from the Transit Service Development Specialist II in that the latter independently performs a full range of complex analysis, planning, scheduling and runcutting for general and specialized transit services. After a period of training and experience, the Transit Service Development Specialist I performs scheduling and data analysis work of average difficulty under general supervision.<br/>\n",
       "<br/>\n",
       "Classification Bargaining Unit: SEIU</div><p></p>\n",
       "<div><b>Essential Job Functions</b></div>\n",
       "<div><p><b>Typical Tasks</b></p><ul>\n",
       "<li>Develops and supports the implementation of bus and rail services (including specialized services such as school transportation, commute, shuttle, and sports services) by creating and modifying transit routes, bus stop locations, and/or transit schedules;\n",
       "</li><li>Uses complex, customized transportation scheduling software for the purpose of developing transit routes and schedules and deploying transit operators and vehicles;\n",
       "</li><li>Assists in supporting interfaces with agency computer systems (i.e. Advanced Communications System, Bus Dispatcher Timekeeping System, Interactive Voice Response System, Automated Passenger Counting System, Light Rail vehicle tracking system, and a variety of on-board passenger information systems) by entering and verifying data;\n",
       "</li><li>Uses standard word processing and spreadsheet software to produce manuals, correspondence, and reports;\n",
       "</li><li>Assists in supporting initiatives and programs related to bus stops and passenger facilities (e.g. transit shelter advertising program, Adopt-A-Stop program, bike locker program) and supports maintenance of bus stops and passenger facilities (e.g. orders supplies, hardware, and signs);\n",
       "</li><li>Analyzes transit performance data, including passenger count and vehicle running time data, for the purpose of modifying transit routes, bus stops, and transit schedules;\n",
       "</li><li>Maintains data in Geographic Information System (GIS), and analyzes transit operational and performance data;\n",
       "</li><li>Assists in planning the location and installation/removal of temporary and permanent bus stops to accommodate construction, road emergencies, and transit service needs;\n",
       "</li><li>Supports the service planning effort by analyzing operational data (route mileage, vehicle running time, hours of operation, bus stop inventory, etc.), and preparing materials for presentations;\n",
       "</li><li>Coordinates with other departments in the preparation and review of transit-related information materials (e.g. public timetables, system maps, Coach Operator's Guides), and participates in special promotions;\n",
       "</li><li>Exchanges information with other transit agencies and the Metropolitan Transportation Commission (MTC);\n",
       "</li><li>Effectively interacts with individuals, schools, cities, community groups and other special interest groups regarding transit service;\n",
       "</li><li>Assists in making presentations at internal meetings and at public meetings;\n",
       "</li><li>Provides guidance and direction to Transit Service Development Aides and other staff as assigned;\n",
       "</li><li>Performs other related tasks as required.</li></ul></div><p></p>\n",
       "<div><b>Minimum Qualifications</b></div>\n",
       "<div><p><b>Employment Standards</b><br/>\n",
       "Sufficient training, education, and experience to demonstrate the ability to perform the above tasks, and the possession of the following knowledge and abilities.<br/>\n",
       "<br/>\n",
       "Development of the required knowledge, skills, and abilities is typically obtained through training and experience equivalent to graduation from an accredited college or university with major course work in mathematics, statistics, computer applications, transportation, urban planning, business, public administration, or a related field. Experience in operational service planning, scheduling, and/or performance measurement, preferably for a public transportation system, may be substituted for the required college education on a year for year basis.<br/>\n",
       "<br/>\n",
       "Some assignments require a valid California driver's license.</p></div>\n",
       "<div><b>Supplemental Information</b></div>\n",
       "<div><p><b>Knowledge of:</b></p><ul>\n",
       "<li>Operational characteristics of a public transit system as they relate to route and schedule determination;\n",
       "</li><li>Computer operations, including standard office word processing and spreadsheet applications;\n",
       "</li><li>Methods and techniques of performance data collection and performance and productivity analysis and measurement.</li></ul><br/>\n",
       "<b>\n",
       "Ability to:</b><ul>\n",
       "<li>Organize and analyze transit performance data for the purpose of modifying transit routes, bus stop locations, and transit schedules;\n",
       "</li><li>Learn to use specialized automated software systems used to develop transit routes and schedules, and to deploy transit operators and vehicles;\n",
       "</li><li>Operate standard word processing and spreadsheet software;\n",
       "</li><li>Use and maintain databases, physical inventories, files, and records;\n",
       "</li><li>Interpret and apply transit labor contract rules and state and federal regulations as they apply to the implementation of services;\n",
       "</li><li>Assist in the preparation of reports and in making presentations to large and small groups;\n",
       "</li><li>Effectively communicate and interact with representatives of other agencies, departments, schools, community groups, etc. for the purpose of exchanging information.</li></ul></div></div></body>\n",
       "</html>"
      ],
      "text/plain": [
       "<IPython.core.display.HTML object>"
      ]
     },
     "metadata": {},
     "output_type": "display_data"
    },
    {
     "name": "stdout",
     "output_type": "stream",
     "text": [
      "**HTML**\n",
      "\n",
      "<html>\n",
      " <head>\n",
      "  <title>\n",
      "   Transit Service Development Specialist I - San Jose, CA 95134\n",
      "  </title>\n",
      " </head>\n",
      " <body>\n",
      "  <h2>\n",
      "   Transit Service Development Specialist I - San Jose, CA 95134\n",
      "  </h2>\n",
      "  <div>\n",
      "   <div>\n",
      "    <div>\n",
      "     <b>\n",
      "      Definition\n",
      "     </b>\n",
      "    </div>\n",
      "    Initially, under close supervision, a Transit Service Development Specialist I assists in the assembly and analysis of transit performance data; modifies transit routes and schedules; assists in the preparation of materials for the operator bid process; prepares reports; and makes presentations.\n",
      "    <br/>\n",
      "    <br/>\n",
      "    <b>\n",
      "     Distinguishing Characteristics\n",
      "    </b>\n",
      "    <br/>\n",
      "    This classification differs from the Transit Service Development Specialist II in that the latter independently performs a full range of complex analysis, planning, scheduling and runcutting for general and specialized transit services. After a period of training and experience, the Transit Service Development Specialist I performs scheduling and data analysis work of average difficulty under general supervision.\n",
      "    <br/>\n",
      "    <br/>\n",
      "    Classification Bargaining Unit: SEIU\n",
      "   </div>\n",
      "   <p>\n",
      "   </p>\n",
      "   <div>\n",
      "    <b>\n",
      "     Essential Job Functions\n",
      "    </b>\n",
      "   </div>\n",
      "   <div>\n",
      "    <p>\n",
      "     <b>\n",
      "      Typical Tasks\n",
      "     </b>\n",
      "    </p>\n",
      "    <ul>\n",
      "     <li>\n",
      "      Develops and supports the implementation of bus and rail services (including specialized services such as school transportation, commute, shuttle, and sports services) by creating and modifying transit routes, bus stop locations, and/or transit schedules;\n",
      "     </li>\n",
      "     <li>\n",
      "      Uses complex, customized transportation scheduling software for the purpose of developing transit routes and schedules and deploying transit operators and vehicles;\n",
      "     </li>\n",
      "     <li>\n",
      "      Assists in supporting interfaces with agency computer systems (i.e. Advanced Communications System, Bus Dispatcher Timekeeping System, Interactive Voice Response System, Automated Passenger Counting System, Light Rail vehicle tracking system, and a variety of on-board passenger information systems) by entering and verifying data;\n",
      "     </li>\n",
      "     <li>\n",
      "      Uses standard word processing and spreadsheet software to produce manuals, correspondence, and reports;\n",
      "     </li>\n",
      "     <li>\n",
      "      Assists in supporting initiatives and programs related to bus stops and passenger facilities (e.g. transit shelter advertising program, Adopt-A-Stop program, bike locker program) and supports maintenance of bus stops and passenger facilities (e.g. orders supplies, hardware, and signs);\n",
      "     </li>\n",
      "     <li>\n",
      "      Analyzes transit performance data, including passenger count and vehicle running time data, for the purpose of modifying transit routes, bus stops, and transit schedules;\n",
      "     </li>\n",
      "     <li>\n",
      "      Maintains data in Geographic Information System (GIS), and analyzes transit operational and performance data;\n",
      "     </li>\n",
      "     <li>\n",
      "      Assists in planning the location and installation/removal of temporary and permanent bus stops to accommodate construction, road emergencies, and transit service needs;\n",
      "     </li>\n",
      "     <li>\n",
      "      Supports the service planning effort by analyzing operational data (route mileage, vehicle running time, hours of operation, bus stop inventory, etc.), and preparing materials for presentations;\n",
      "     </li>\n",
      "     <li>\n",
      "      Coordinates with other departments in the preparation and review of transit-related information materials (e.g. public timetables, system maps, Coach Operator's Guides), and participates in special promotions;\n",
      "     </li>\n",
      "     <li>\n",
      "      Exchanges information with other transit agencies and the Metropolitan Transportation Commission (MTC);\n",
      "     </li>\n",
      "     <li>\n",
      "      Effectively interacts with individuals, schools, cities, community groups and other special interest groups regarding transit service;\n",
      "     </li>\n",
      "     <li>\n",
      "      Assists in making presentations at internal meetings and at public meetings;\n",
      "     </li>\n",
      "     <li>\n",
      "      Provides guidance and direction to Transit Service Development Aides and other staff as assigned;\n",
      "     </li>\n",
      "     <li>\n",
      "      Performs other related tasks as required.\n",
      "     </li>\n",
      "    </ul>\n",
      "   </div>\n",
      "   <p>\n",
      "   </p>\n",
      "   <div>\n",
      "    <b>\n",
      "     Minimum Qualifications\n",
      "    </b>\n",
      "   </div>\n",
      "   <div>\n",
      "    <p>\n",
      "     <b>\n",
      "      Employment Standards\n",
      "     </b>\n",
      "     <br/>\n",
      "     Sufficient training, education, and experience to demonstrate the ability to perform the above tasks, and the possession of the following knowledge and abilities.\n",
      "     <br/>\n",
      "     <br/>\n",
      "     Development of the required knowledge, skills, and abilities is typically obtained through training and experience equivalent to graduation from an accredited college or university with major course work in mathematics, statistics, computer applications, transportation, urban planning, business, public administration, or a related field. Experience in operational service planning, scheduling, and/or performance measurement, preferably for a public transportation system, may be substituted for the required college education on a year for year basis.\n",
      "     <br/>\n",
      "     <br/>\n",
      "     Some assignments require a valid California driver's license.\n",
      "    </p>\n",
      "   </div>\n",
      "   <div>\n",
      "    <b>\n",
      "     Supplemental Information\n",
      "    </b>\n",
      "   </div>\n",
      "   <div>\n",
      "    <p>\n",
      "     <b>\n",
      "      Knowledge of:\n",
      "     </b>\n",
      "    </p>\n",
      "    <ul>\n",
      "     <li>\n",
      "      Operational characteristics of a public transit system as they relate to route and schedule determination;\n",
      "     </li>\n",
      "     <li>\n",
      "      Computer operations, including standard office word processing and spreadsheet applications;\n",
      "     </li>\n",
      "     <li>\n",
      "      Methods and techniques of performance data collection and performance and productivity analysis and measurement.\n",
      "     </li>\n",
      "    </ul>\n",
      "    <br/>\n",
      "    <b>\n",
      "     Ability to:\n",
      "    </b>\n",
      "    <ul>\n",
      "     <li>\n",
      "      Organize and analyze transit performance data for the purpose of modifying transit routes, bus stop locations, and transit schedules;\n",
      "     </li>\n",
      "     <li>\n",
      "      Learn to use specialized automated software systems used to develop transit routes and schedules, and to deploy transit operators and vehicles;\n",
      "     </li>\n",
      "     <li>\n",
      "      Operate standard word processing and spreadsheet software;\n",
      "     </li>\n",
      "     <li>\n",
      "      Use and maintain databases, physical inventories, files, and records;\n",
      "     </li>\n",
      "     <li>\n",
      "      Interpret and apply transit labor contract rules and state and federal regulations as they apply to the implementation of services;\n",
      "     </li>\n",
      "     <li>\n",
      "      Assist in the preparation of reports and in making presentations to large and small groups;\n",
      "     </li>\n",
      "     <li>\n",
      "      Effectively communicate and interact with representatives of other agencies, departments, schools, community groups, etc. for the purpose of exchanging information.\n",
      "     </li>\n",
      "    </ul>\n",
      "   </div>\n",
      "  </div>\n",
      " </body>\n",
      "</html>\n"
     ]
    }
   ],
   "source": [
    "file_list = [file for file in os.listdir() if file.endswith(\".html\")]\n",
    "result = show_result_with(file_list[4])\n",
    "#result.find_all(\"li\")"
   ]
  },
  {
   "cell_type": "markdown",
   "metadata": {},
   "source": [
    "# Preprocessing \n",
    " "
   ]
  },
  {
   "cell_type": "code",
   "execution_count": 5,
   "metadata": {},
   "outputs": [],
   "source": [
    "def extract_web_components(files):\n",
    "    titles = []\n",
    "    bodies = []\n",
    "    bullets = []\n",
    "    for file in files:\n",
    "        html = read_html_from_file(file)\n",
    "        titles.append(html.head.text)\n",
    "        bodies.append(html.body.text)\n",
    "        bullets.append([bull.text.strip() for bull in html.find_all(\"li\")])\n",
    "        \n",
    "    return titles, bodies, bullets"
   ]
  },
  {
   "cell_type": "code",
   "execution_count": 6,
   "metadata": {},
   "outputs": [],
   "source": [
    "titles, bodies, bullets = extract_web_components(file_list)"
   ]
  },
  {
   "cell_type": "code",
   "execution_count": 7,
   "metadata": {},
   "outputs": [],
   "source": [
    "df = pd.DataFrame(\n",
    "    {\n",
    "        \"title\":titles,\n",
    "        \"body\":bodies,\n",
    "        \"bullets\":bullets\n",
    "    }\n",
    ")"
   ]
  },
  {
   "cell_type": "code",
   "execution_count": 8,
   "metadata": {},
   "outputs": [
    {
     "data": {
      "text/html": [
       "<div>\n",
       "<style scoped>\n",
       "    .dataframe tbody tr th:only-of-type {\n",
       "        vertical-align: middle;\n",
       "    }\n",
       "\n",
       "    .dataframe tbody tr th {\n",
       "        vertical-align: top;\n",
       "    }\n",
       "\n",
       "    .dataframe thead th {\n",
       "        text-align: right;\n",
       "    }\n",
       "</style>\n",
       "<table border=\"1\" class=\"dataframe\">\n",
       "  <thead>\n",
       "    <tr style=\"text-align: right;\">\n",
       "      <th></th>\n",
       "      <th>title</th>\n",
       "      <th>body</th>\n",
       "      <th>bullets</th>\n",
       "    </tr>\n",
       "  </thead>\n",
       "  <tbody>\n",
       "    <tr>\n",
       "      <th>0</th>\n",
       "      <td>Data Analyst - San Francisco, CA</td>\n",
       "      <td>Data Analyst - San Francisco, CA\\nRimeto’s mis...</td>\n",
       "      <td>[Interpret data, analyze results and provide o...</td>\n",
       "    </tr>\n",
       "    <tr>\n",
       "      <th>1</th>\n",
       "      <td>Machine Learning and Computer Vision Engineer ...</td>\n",
       "      <td>Machine Learning and Computer Vision Engineer ...</td>\n",
       "      <td>[Design, implement, and optimize cutting-edge ...</td>\n",
       "    </tr>\n",
       "    <tr>\n",
       "      <th>2</th>\n",
       "      <td>RHEL Integrator - North Charleston, SC 29406</td>\n",
       "      <td>RHEL Integrator - North Charleston, SC 29406\\n...</td>\n",
       "      <td>[Provide engineering leadership in support of ...</td>\n",
       "    </tr>\n",
       "    <tr>\n",
       "      <th>3</th>\n",
       "      <td>Talend Automation spoc - Somerset, NJ</td>\n",
       "      <td>Talend Automation spoc - Somerset, NJ\\nOver 7+...</td>\n",
       "      <td>[Over 5.5 years of experience as python Full S...</td>\n",
       "    </tr>\n",
       "    <tr>\n",
       "      <th>4</th>\n",
       "      <td>Transit Service Development Specialist I - San...</td>\n",
       "      <td>Transit Service Development Specialist I - San...</td>\n",
       "      <td>[Develops and supports the implementation of b...</td>\n",
       "    </tr>\n",
       "  </tbody>\n",
       "</table>\n",
       "</div>"
      ],
      "text/plain": [
       "                                               title  \\\n",
       "0                   Data Analyst - San Francisco, CA   \n",
       "1  Machine Learning and Computer Vision Engineer ...   \n",
       "2       RHEL Integrator - North Charleston, SC 29406   \n",
       "3              Talend Automation spoc - Somerset, NJ   \n",
       "4  Transit Service Development Specialist I - San...   \n",
       "\n",
       "                                                body  \\\n",
       "0  Data Analyst - San Francisco, CA\\nRimeto’s mis...   \n",
       "1  Machine Learning and Computer Vision Engineer ...   \n",
       "2  RHEL Integrator - North Charleston, SC 29406\\n...   \n",
       "3  Talend Automation spoc - Somerset, NJ\\nOver 7+...   \n",
       "4  Transit Service Development Specialist I - San...   \n",
       "\n",
       "                                             bullets  \n",
       "0  [Interpret data, analyze results and provide o...  \n",
       "1  [Design, implement, and optimize cutting-edge ...  \n",
       "2  [Provide engineering leadership in support of ...  \n",
       "3  [Over 5.5 years of experience as python Full S...  \n",
       "4  [Develops and supports the implementation of b...  "
      ]
     },
     "execution_count": 8,
     "metadata": {},
     "output_type": "execute_result"
    }
   ],
   "source": [
    "df.head()"
   ]
  },
  {
   "cell_type": "markdown",
   "metadata": {},
   "source": [
    "## Filter jobs containing Data Science jobs"
   ]
  },
  {
   "cell_type": "code",
   "execution_count": 9,
   "metadata": {},
   "outputs": [
    {
     "name": "stderr",
     "output_type": "stream",
     "text": [
      "/home/michal/anaconda3/lib/python3.7/site-packages/pandas/core/strings.py:1843: UserWarning: This pattern has match groups. To actually get the groups, use str.extract.\n",
      "  return func(self, *args, **kwargs)\n"
     ]
    },
    {
     "data": {
      "text/html": [
       "<div>\n",
       "<style scoped>\n",
       "    .dataframe tbody tr th:only-of-type {\n",
       "        vertical-align: middle;\n",
       "    }\n",
       "\n",
       "    .dataframe tbody tr th {\n",
       "        vertical-align: top;\n",
       "    }\n",
       "\n",
       "    .dataframe thead th {\n",
       "        text-align: right;\n",
       "    }\n",
       "</style>\n",
       "<table border=\"1\" class=\"dataframe\">\n",
       "  <thead>\n",
       "    <tr style=\"text-align: right;\">\n",
       "      <th></th>\n",
       "      <th>title</th>\n",
       "      <th>body</th>\n",
       "      <th>bullets</th>\n",
       "    </tr>\n",
       "  </thead>\n",
       "  <tbody>\n",
       "    <tr>\n",
       "      <th>8</th>\n",
       "      <td>Data Scientist II - Payment Products - Seattle...</td>\n",
       "      <td>Data Scientist II - Payment Products - Seattle...</td>\n",
       "      <td>[Bachelor’s degree in Computer Science, Mathem...</td>\n",
       "    </tr>\n",
       "    <tr>\n",
       "      <th>9</th>\n",
       "      <td>Data Scientist - Seattle, WA</td>\n",
       "      <td>Data Scientist - Seattle, WA\\nRing is looking ...</td>\n",
       "      <td>[Use predictive analytics and machine learning...</td>\n",
       "    </tr>\n",
       "    <tr>\n",
       "      <th>15</th>\n",
       "      <td>Data Scientist - Jersey City, NJ 07311</td>\n",
       "      <td>Data Scientist - Jersey City, NJ 07311\\nWorkin...</td>\n",
       "      <td>[Create predictive models using current and em...</td>\n",
       "    </tr>\n",
       "    <tr>\n",
       "      <th>18</th>\n",
       "      <td>2020 PhD Data Scientist Internship - Uber Eats...</td>\n",
       "      <td>2020 PhD Data Scientist Internship - Uber Eats...</td>\n",
       "      <td>[Develop models for user behavior and marketpl...</td>\n",
       "    </tr>\n",
       "    <tr>\n",
       "      <th>23</th>\n",
       "      <td>Data Analyst- Data Science &amp; Analytics - Palo ...</td>\n",
       "      <td>Data Analyst- Data Science &amp; Analytics - Palo ...</td>\n",
       "      <td>[Detailed and clear understanding of data used...</td>\n",
       "    </tr>\n",
       "  </tbody>\n",
       "</table>\n",
       "</div>"
      ],
      "text/plain": [
       "                                                title  \\\n",
       "8   Data Scientist II - Payment Products - Seattle...   \n",
       "9                        Data Scientist - Seattle, WA   \n",
       "15             Data Scientist - Jersey City, NJ 07311   \n",
       "18  2020 PhD Data Scientist Internship - Uber Eats...   \n",
       "23  Data Analyst- Data Science & Analytics - Palo ...   \n",
       "\n",
       "                                                 body  \\\n",
       "8   Data Scientist II - Payment Products - Seattle...   \n",
       "9   Data Scientist - Seattle, WA\\nRing is looking ...   \n",
       "15  Data Scientist - Jersey City, NJ 07311\\nWorkin...   \n",
       "18  2020 PhD Data Scientist Internship - Uber Eats...   \n",
       "23  Data Analyst- Data Science & Analytics - Palo ...   \n",
       "\n",
       "                                              bullets  \n",
       "8   [Bachelor’s degree in Computer Science, Mathem...  \n",
       "9   [Use predictive analytics and machine learning...  \n",
       "15  [Create predictive models using current and em...  \n",
       "18  [Develop models for user behavior and marketpl...  \n",
       "23  [Detailed and clear understanding of data used...  "
      ]
     },
     "execution_count": 9,
     "metadata": {},
     "output_type": "execute_result"
    }
   ],
   "source": [
    "df = df[df.title.str.contains(\"(data scientist) | (data science)\",case=False)].copy()\n",
    "df.head()"
   ]
  },
  {
   "cell_type": "markdown",
   "metadata": {},
   "source": [
    "## Remove duplicates"
   ]
  },
  {
   "cell_type": "code",
   "execution_count": 10,
   "metadata": {},
   "outputs": [],
   "source": [
    "df['bullets'] = df['bullets'].apply(tuple, 1)"
   ]
  },
  {
   "cell_type": "code",
   "execution_count": 11,
   "metadata": {},
   "outputs": [],
   "source": [
    "df.drop_duplicates(inplace=True)"
   ]
  },
  {
   "cell_type": "code",
   "execution_count": 12,
   "metadata": {},
   "outputs": [
    {
     "name": "stdout",
     "output_type": "stream",
     "text": [
      "Number of Data Science Jobs offers : 388\n"
     ]
    }
   ],
   "source": [
    "print(f\"Number of Data Science Jobs offers : {len(df)}\")"
   ]
  },
  {
   "cell_type": "markdown",
   "metadata": {},
   "source": [
    "# Save to disc"
   ]
  },
  {
   "cell_type": "code",
   "execution_count": 19,
   "metadata": {},
   "outputs": [],
   "source": [
    "df.to_pickle(\"../step1_df.pk\")"
   ]
  }
 ],
 "metadata": {
  "kernelspec": {
   "display_name": "Python 3",
   "language": "python",
   "name": "python3"
  },
  "language_info": {
   "codemirror_mode": {
    "name": "ipython",
    "version": 3
   },
   "file_extension": ".py",
   "mimetype": "text/x-python",
   "name": "python",
   "nbconvert_exporter": "python",
   "pygments_lexer": "ipython3",
   "version": "3.7.5"
  }
 },
 "nbformat": 4,
 "nbformat_minor": 2
}
