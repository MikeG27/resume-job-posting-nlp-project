{
 "cells": [
  {
   "cell_type": "markdown",
   "metadata": {},
   "source": [
    "# Find the most similar job posting to our resume"
   ]
  },
  {
   "cell_type": "markdown",
   "metadata": {},
   "source": [
    "## Objective \n",
    "\n",
    "Narrow down the set of job postings to those that are most similar to our resume in preparation for further analysis.\n",
    "Workflow"
   ]
  },
  {
   "cell_type": "markdown",
   "metadata": {},
   "source": [
    "## Workflow \n",
    "\n",
    "1. Obtain the resume from the GitHub repository. Transform job posting text and our resume into TF-IDF vectors using sklearn's TF-IDF vectorizer class.\n",
    "2. Compute the cosine similarity between the vectorized resume and the job postings using sklearn's cosine similarity function.\n",
    "3. Sort the job postings based on similarity to our resume, and choose an appropriate cutoff for selecting the most similar jobs. Store the most similar job postings in a new DataFrame for later use, and save the DataFrame to disk."
   ]
  },
  {
   "cell_type": "code",
   "execution_count": 35,
   "metadata": {},
   "outputs": [],
   "source": [
    "import numpy as np\n",
    "import pandas as pd"
   ]
  },
  {
   "cell_type": "code",
   "execution_count": 36,
   "metadata": {},
   "outputs": [],
   "source": [
    "SRC_PATH = \"../data/job_offers.csv\""
   ]
  },
  {
   "cell_type": "code",
   "execution_count": 37,
   "metadata": {},
   "outputs": [
    {
     "data": {
      "text/html": [
       "<div>\n",
       "<style scoped>\n",
       "    .dataframe tbody tr th:only-of-type {\n",
       "        vertical-align: middle;\n",
       "    }\n",
       "\n",
       "    .dataframe tbody tr th {\n",
       "        vertical-align: top;\n",
       "    }\n",
       "\n",
       "    .dataframe thead th {\n",
       "        text-align: right;\n",
       "    }\n",
       "</style>\n",
       "<table border=\"1\" class=\"dataframe\">\n",
       "  <thead>\n",
       "    <tr style=\"text-align: right;\">\n",
       "      <th></th>\n",
       "      <th>title</th>\n",
       "      <th>body</th>\n",
       "      <th>bullets</th>\n",
       "    </tr>\n",
       "  </thead>\n",
       "  <tbody>\n",
       "    <tr>\n",
       "      <th>0</th>\n",
       "      <td>Data Scientist II - Payment Products - Seattle...</td>\n",
       "      <td>Data Scientist II - Payment Products - Seattle...</td>\n",
       "      <td>('Bachelor’s degree in Computer Science, Mathe...</td>\n",
       "    </tr>\n",
       "    <tr>\n",
       "      <th>1</th>\n",
       "      <td>Data Scientist - Seattle, WA</td>\n",
       "      <td>Data Scientist - Seattle, WA\\nRing is looking ...</td>\n",
       "      <td>('Use predictive analytics and machine learnin...</td>\n",
       "    </tr>\n",
       "    <tr>\n",
       "      <th>2</th>\n",
       "      <td>Data Scientist - Jersey City, NJ 07311</td>\n",
       "      <td>Data Scientist - Jersey City, NJ 07311\\nWorkin...</td>\n",
       "      <td>('Create predictive models using current and e...</td>\n",
       "    </tr>\n",
       "    <tr>\n",
       "      <th>3</th>\n",
       "      <td>2020 PhD Data Scientist Internship - Uber Eats...</td>\n",
       "      <td>2020 PhD Data Scientist Internship - Uber Eats...</td>\n",
       "      <td>('Develop models for user behavior and marketp...</td>\n",
       "    </tr>\n",
       "    <tr>\n",
       "      <th>4</th>\n",
       "      <td>Data Analyst- Data Science &amp; Analytics - Palo ...</td>\n",
       "      <td>Data Analyst- Data Science &amp; Analytics - Palo ...</td>\n",
       "      <td>('Detailed and clear understanding of data use...</td>\n",
       "    </tr>\n",
       "  </tbody>\n",
       "</table>\n",
       "</div>"
      ],
      "text/plain": [
       "                                               title  \\\n",
       "0  Data Scientist II - Payment Products - Seattle...   \n",
       "1                       Data Scientist - Seattle, WA   \n",
       "2             Data Scientist - Jersey City, NJ 07311   \n",
       "3  2020 PhD Data Scientist Internship - Uber Eats...   \n",
       "4  Data Analyst- Data Science & Analytics - Palo ...   \n",
       "\n",
       "                                                body  \\\n",
       "0  Data Scientist II - Payment Products - Seattle...   \n",
       "1  Data Scientist - Seattle, WA\\nRing is looking ...   \n",
       "2  Data Scientist - Jersey City, NJ 07311\\nWorkin...   \n",
       "3  2020 PhD Data Scientist Internship - Uber Eats...   \n",
       "4  Data Analyst- Data Science & Analytics - Palo ...   \n",
       "\n",
       "                                             bullets  \n",
       "0  ('Bachelor’s degree in Computer Science, Mathe...  \n",
       "1  ('Use predictive analytics and machine learnin...  \n",
       "2  ('Create predictive models using current and e...  \n",
       "3  ('Develop models for user behavior and marketp...  \n",
       "4  ('Detailed and clear understanding of data use...  "
      ]
     },
     "execution_count": 37,
     "metadata": {},
     "output_type": "execute_result"
    }
   ],
   "source": [
    "df = pd.read_csv(SRC_PATH,delimiter=\";\")\n",
    "df.head()"
   ]
  },
  {
   "cell_type": "code",
   "execution_count": 38,
   "metadata": {},
   "outputs": [
    {
     "data": {
      "text/plain": [
       "(388, 5286)"
      ]
     },
     "execution_count": 38,
     "metadata": {},
     "output_type": "execute_result"
    }
   ],
   "source": [
    "from sklearn.feature_extraction.text import TfidfVectorizer\n",
    "\n",
    "tfidf_vectorizer = TfidfVectorizer(stop_words='english')\n",
    "tfidf_matrix = tfidf_matrix = tfidf_vectorizer.fit_transform(df.bullets.values)\n",
    "tfidf_matrix.shape"
   ]
  },
  {
   "cell_type": "code",
   "execution_count": 75,
   "metadata": {},
   "outputs": [],
   "source": [
    "# Open text from CV\n",
    "with open(\"../data/Liveproject Resume.txt\",\"r\") as f:\n",
    "    my_cv = f.read()"
   ]
  },
  {
   "cell_type": "code",
   "execution_count": 76,
   "metadata": {},
   "outputs": [],
   "source": [
    "input_vectorized = tfidf_vectorizer.transform([my_cv])\n",
    "input_np_vectorized = input_vectorized.toarray()\n",
    "input_np_vectorized.T.shape"
   ]
  },
  {
   "cell_type": "code",
   "execution_count": 95,
   "metadata": {},
   "outputs": [],
   "source": [
    "cosine_similarities = tfidf_matrix @ input_np_vectorized.T\n",
    "most_similar_index = np.argsort(cosine_similarities.flatten())[-1]\n",
    "similarity = cosine_similarities[most_similar_index]"
   ]
  },
  {
   "cell_type": "code",
   "execution_count": 96,
   "metadata": {},
   "outputs": [],
   "source": [
    "most_similar_job_offer = df.iloc[most_similar_index]"
   ]
  },
  {
   "cell_type": "code",
   "execution_count": 97,
   "metadata": {},
   "outputs": [
    {
     "data": {
      "text/plain": [
       "title      Machine Learning / Data Scientist Internship (...\n",
       "body       Machine Learning / Data Scientist Internship (...\n",
       "bullets    ('How to build models at scale using vast amou...\n",
       "Name: 306, dtype: object"
      ]
     },
     "execution_count": 97,
     "metadata": {},
     "output_type": "execute_result"
    }
   ],
   "source": [
    "most_similar_job_offer"
   ]
  },
  {
   "cell_type": "code",
   "execution_count": 98,
   "metadata": {},
   "outputs": [
    {
     "name": "stdout",
     "output_type": "stream",
     "text": [
      "My Resume\n",
      "﻿Good Student\n",
      "Data Scientist\n",
      "\t  \n",
      "\n",
      "Good Student\n",
      "123 Fake Street\n",
      "Some City, QT 12345\n",
      "123.456.7890\n",
      "no_reply@fakesite.com\n",
      "\tㅡ\n",
      "Skills\n",
      "\t  \n",
      "\n",
      "Python, Pandas, machine learning, natural language processing\n",
      "\tㅡ\n",
      "Experience\n",
      "\t  \n",
      "\n",
      "Manning / Data Analyst\n",
      "Oct 2019 - PRESENT,  REMOTE\n",
      "Analyzed and visualized vast amounts of data using Pandas, Python, and Matplotlib.\n",
      "\tㅡ\n",
      "Education\n",
      "\t  \n",
      "\n",
      "Berkeley / B.S. Mathematics\n",
      "August 2015 - May 2019,  BERKELEY, CA\n",
      "Graduated summa cum laude.\n",
      "\n",
      "\tㅡ\n",
      "Awards\n",
      "\t  \n",
      "\n",
      "Tau Beta Pi Honors Society\n",
      "\n",
      "\n",
      "************* BEST JOB OFFER ******************\n",
      "\n",
      "Job title Machine Learning / Data Scientist Internship (Summer 2020) - San Diego - San Diego, CA\n",
      "\n",
      "Most similar offer bullets [\"('How to build models at scale using vast amounts of structured and unstructured heterogeneous types of data.'\", \" 'Ensuring high accuracy based on industry’s stringent requirements around precision or recall and with minimum Type I and Type II errors.'\", \" 'Generating predictions for millions of rows of data with high response time'\", \" 'Dealing with high data diversity (vast amounts of data will need to be classified and will have multi labelled outcomes)'\", \" 'Dealing with very high dimensionality (expect to work on large matrix computations\", \" variable transformation & feature engineering and selection using PCA and other novel ML techniques)'\", \" 'Dealing with noisy data (build models robust enough for unclassified and/or mislabeled data)'\", ' \"Pursing a Bachelor\\'s or Master\\'s degree in Mathematics', ' Computer Science', ' Data Science or related degree\"', \" 'GPA of 3.0 or higher'\", \" 'Graduating in December of 2020 or June of 2021'\", \" 'Good Understanding of machine learning theory\", ' Artificial Intelligence [Deep Learning] and algorithms', ' such as CNNs', ' k-NN', ' Naive Bayes', ' SVM', ' Decision Forests', ' Ensembles', \" Decisions Trees'\", \" 'Good coding skills and knowledge around using scientific\", ' distributed programming and scripting languages like R', ' Python', \" Pyspark and/or Java.'\", \" 'Good foundation in statistics and machine learning algorithms'\", \" 'Familiarity of modern statistical learning methods & machine learning Frameworks like H2O\", \" Spark & Hadoop'\", \" 'Knowledge on how to build prototypes and be able to understand the existing code base.'\", \" 'A principled approach to solving algorithmic problems with a focus on what will make users happy'\", \" 'A pragmatic approach to rapidly evaluating new algorithmic ideas'\", \" 'A very high attention to detail and ability to thoroughly think through problems'\", \" 'Excellent written and oral communication skills on both technical and non-technical topicsAbility to commit 40 hours per week for 10-12 weeks during the 2020 summer.')\"]\n"
     ]
    }
   ],
   "source": [
    "print(\"My Resume\")\n",
    "print(my_cv)\n",
    "\n",
    "print(\"\\n************* BEST JOB OFFER ******************\\n\")\n",
    "print(\"Job title\",most_similar_job_offer.title)\n",
    "\n",
    "print(\"\\nMost similar offer bullets\",most_similar_job_offer.bullets.split(\",\"))\n",
    "\n"
   ]
  }
 ],
 "metadata": {
  "kernelspec": {
   "display_name": "Python 3",
   "language": "python",
   "name": "python3"
  },
  "language_info": {
   "codemirror_mode": {
    "name": "ipython",
    "version": 3
   },
   "file_extension": ".py",
   "mimetype": "text/x-python",
   "name": "python",
   "nbconvert_exporter": "python",
   "pygments_lexer": "ipython3",
   "version": "3.7.5"
  }
 },
 "nbformat": 4,
 "nbformat_minor": 2
}
