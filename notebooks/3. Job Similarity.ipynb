{
 "cells": [
  {
   "cell_type": "markdown",
   "metadata": {},
   "source": [
    "# Find the most similar job posting to our resume"
   ]
  },
  {
   "cell_type": "markdown",
   "metadata": {},
   "source": [
    "## Objective \n",
    "\n",
    "Narrow down the set of job postings to those that are most similar to our resume in preparation for further analysis.\n",
    "Workflow"
   ]
  },
  {
   "cell_type": "markdown",
   "metadata": {},
   "source": [
    "## Workflow \n",
    "\n",
    "1. Obtain the resume from the GitHub repository. Transform job posting text and our resume into TF-IDF vectors using sklearn's TF-IDF vectorizer class.\n",
    "2. Compute the cosine similarity between the vectorized resume and the job postings using sklearn's cosine similarity function.\n",
    "3. Sort the job postings based on similarity to our resume, and choose an appropriate cutoff for selecting the most similar jobs. Store the most similar job postings in a new DataFrame for later use, and save the DataFrame to disk."
   ]
  },
  {
   "cell_type": "code",
   "execution_count": 1,
   "metadata": {},
   "outputs": [],
   "source": [
    "import numpy as np\n",
    "import pandas as pd\n",
    "import matplotlib.pyplot as plt\n",
    "\n",
    "%matplotlib inline\n",
    "\n",
    "from jupyterthemes import jtplot\n",
    "jtplot.style()"
   ]
  },
  {
   "cell_type": "code",
   "execution_count": 2,
   "metadata": {},
   "outputs": [],
   "source": [
    "SRC_PATH = \"../data/step1_df.pk\""
   ]
  },
  {
   "cell_type": "code",
   "execution_count": 3,
   "metadata": {},
   "outputs": [
    {
     "data": {
      "text/html": [
       "<div>\n",
       "<style scoped>\n",
       "    .dataframe tbody tr th:only-of-type {\n",
       "        vertical-align: middle;\n",
       "    }\n",
       "\n",
       "    .dataframe tbody tr th {\n",
       "        vertical-align: top;\n",
       "    }\n",
       "\n",
       "    .dataframe thead th {\n",
       "        text-align: right;\n",
       "    }\n",
       "</style>\n",
       "<table border=\"1\" class=\"dataframe\">\n",
       "  <thead>\n",
       "    <tr style=\"text-align: right;\">\n",
       "      <th></th>\n",
       "      <th>title</th>\n",
       "      <th>body</th>\n",
       "      <th>bullets</th>\n",
       "    </tr>\n",
       "  </thead>\n",
       "  <tbody>\n",
       "    <tr>\n",
       "      <th>8</th>\n",
       "      <td>Data Scientist II - Payment Products - Seattle...</td>\n",
       "      <td>Data Scientist II - Payment Products - Seattle...</td>\n",
       "      <td>(Bachelor’s degree in Computer Science, Mathem...</td>\n",
       "    </tr>\n",
       "    <tr>\n",
       "      <th>9</th>\n",
       "      <td>Data Scientist - Seattle, WA</td>\n",
       "      <td>Data Scientist - Seattle, WA\\nRing is looking ...</td>\n",
       "      <td>(Use predictive analytics and machine learning...</td>\n",
       "    </tr>\n",
       "    <tr>\n",
       "      <th>15</th>\n",
       "      <td>Data Scientist - Jersey City, NJ 07311</td>\n",
       "      <td>Data Scientist - Jersey City, NJ 07311\\nWorkin...</td>\n",
       "      <td>(Create predictive models using current and em...</td>\n",
       "    </tr>\n",
       "    <tr>\n",
       "      <th>18</th>\n",
       "      <td>2020 PhD Data Scientist Internship - Uber Eats...</td>\n",
       "      <td>2020 PhD Data Scientist Internship - Uber Eats...</td>\n",
       "      <td>(Develop models for user behavior and marketpl...</td>\n",
       "    </tr>\n",
       "    <tr>\n",
       "      <th>23</th>\n",
       "      <td>Data Analyst- Data Science &amp; Analytics - Palo ...</td>\n",
       "      <td>Data Analyst- Data Science &amp; Analytics - Palo ...</td>\n",
       "      <td>(Detailed and clear understanding of data used...</td>\n",
       "    </tr>\n",
       "  </tbody>\n",
       "</table>\n",
       "</div>"
      ],
      "text/plain": [
       "                                                title  \\\n",
       "8   Data Scientist II - Payment Products - Seattle...   \n",
       "9                        Data Scientist - Seattle, WA   \n",
       "15             Data Scientist - Jersey City, NJ 07311   \n",
       "18  2020 PhD Data Scientist Internship - Uber Eats...   \n",
       "23  Data Analyst- Data Science & Analytics - Palo ...   \n",
       "\n",
       "                                                 body  \\\n",
       "8   Data Scientist II - Payment Products - Seattle...   \n",
       "9   Data Scientist - Seattle, WA\\nRing is looking ...   \n",
       "15  Data Scientist - Jersey City, NJ 07311\\nWorkin...   \n",
       "18  2020 PhD Data Scientist Internship - Uber Eats...   \n",
       "23  Data Analyst- Data Science & Analytics - Palo ...   \n",
       "\n",
       "                                              bullets  \n",
       "8   (Bachelor’s degree in Computer Science, Mathem...  \n",
       "9   (Use predictive analytics and machine learning...  \n",
       "15  (Create predictive models using current and em...  \n",
       "18  (Develop models for user behavior and marketpl...  \n",
       "23  (Detailed and clear understanding of data used...  "
      ]
     },
     "execution_count": 3,
     "metadata": {},
     "output_type": "execute_result"
    }
   ],
   "source": [
    "df = pd.read_pickle(SRC_PATH)\n",
    "df.head()"
   ]
  },
  {
   "cell_type": "code",
   "execution_count": 4,
   "metadata": {},
   "outputs": [
    {
     "data": {
      "text/plain": [
       "(388, 9118)"
      ]
     },
     "execution_count": 4,
     "metadata": {},
     "output_type": "execute_result"
    }
   ],
   "source": [
    "from sklearn.feature_extraction.text import TfidfVectorizer\n",
    "\n",
    "tfidf_vectorizer = TfidfVectorizer(stop_words='english')\n",
    "tfidf_matrix = tfidf_matrix = tfidf_vectorizer.fit_transform(df.body.values)\n",
    "tfidf_matrix.shape"
   ]
  },
  {
   "cell_type": "code",
   "execution_count": 5,
   "metadata": {},
   "outputs": [],
   "source": [
    "# Open text from CV\n",
    "with open(\"../data/Liveproject Resume.txt\",\"r\") as f:\n",
    "    my_cv = f.read()"
   ]
  },
  {
   "cell_type": "code",
   "execution_count": 6,
   "metadata": {},
   "outputs": [
    {
     "data": {
      "text/plain": [
       "(9118, 1)"
      ]
     },
     "execution_count": 6,
     "metadata": {},
     "output_type": "execute_result"
    }
   ],
   "source": [
    "input_vectorized = tfidf_vectorizer.transform([my_cv])\n",
    "input_np_vectorized = input_vectorized.toarray()\n",
    "input_np_vectorized.T.shape"
   ]
  },
  {
   "cell_type": "code",
   "execution_count": 7,
   "metadata": {},
   "outputs": [],
   "source": [
    "cosine_similarities = tfidf_matrix @ input_np_vectorized.T\n",
    "most_similar_index = np.argsort(cosine_similarities.flatten())[-1]\n",
    "similarity = cosine_similarities[most_similar_index]"
   ]
  },
  {
   "cell_type": "code",
   "execution_count": 8,
   "metadata": {},
   "outputs": [],
   "source": [
    "most_similar_job_offer = df.iloc[most_similar_index]"
   ]
  },
  {
   "cell_type": "code",
   "execution_count": 9,
   "metadata": {},
   "outputs": [
    {
     "data": {
      "text/plain": [
       "title      Post-doc: Dissemination/implementation and/or ...\n",
       "body       Post-doc: Dissemination/implementation and/or ...\n",
       "bullets                                                   ()\n",
       "Name: 69, dtype: object"
      ]
     },
     "execution_count": 9,
     "metadata": {},
     "output_type": "execute_result"
    }
   ],
   "source": [
    "most_similar_job_offer"
   ]
  },
  {
   "cell_type": "code",
   "execution_count": 10,
   "metadata": {},
   "outputs": [
    {
     "name": "stdout",
     "output_type": "stream",
     "text": [
      "My Resume\n",
      "﻿Good Student\n",
      "Data Scientist\n",
      "\t  \n",
      "\n",
      "Good Student\n",
      "123 Fake Street\n",
      "Some City, QT 12345\n",
      "123.456.7890\n",
      "no_reply@fakesite.com\n",
      "\tㅡ\n",
      "Skills\n",
      "\t  \n",
      "\n",
      "Python, Pandas, machine learning, natural language processing\n",
      "\tㅡ\n",
      "Experience\n",
      "\t  \n",
      "\n",
      "Manning / Data Analyst\n",
      "Oct 2019 - PRESENT,  REMOTE\n",
      "Analyzed and visualized vast amounts of data using Pandas, Python, and Matplotlib.\n",
      "\tㅡ\n",
      "Education\n",
      "\t  \n",
      "\n",
      "Berkeley / B.S. Mathematics\n",
      "August 2015 - May 2019,  BERKELEY, CA\n",
      "Graduated summa cum laude.\n",
      "\n",
      "\tㅡ\n",
      "Awards\n",
      "\t  \n",
      "\n",
      "Tau Beta Pi Honors Society\n",
      "\n",
      "\n",
      "************* BEST JOB OFFER ******************\n",
      "\n",
      "Job title Post-doc: Dissemination/implementation and/or data science and/or sleep research - Berkeley, CA 94709\n",
      "\n",
      "Most similar offer bullets ['Post-doc: Dissemination/implementation and/or data science and/or sleep research - Berkeley', ' CA 94709\\nTo apply send a cover letter addressing the advertisement below and CV to aharvey@berkeley.edu\\n\\nThe Psychology Department at University of California', ' Berkeley', ' invites applications for one or more full time Postdoctoral Scholar positions to support and contribute to research within the Golden Bear Sleep and Mood Research Centre (GBSMRC) at UC Berkeley', ' which is lead by Allison Harvey', ' Ph.D.\\n\\nWe are looking to build our team by adding talent in data-analysis or dissemination and implementation research or sleep research. The new team members may come from a broad range of disciplines such as psychology', ' social work', ' nursing', ' public health/policy', ' statistics and data science.\\n\\nOur team is currently funded by NIMH and NICHD. The theme of our research is to develop more effective psychosocial treatments for psychiatric and health problems by harnessing basic science. Then we seek to contribute to the science of dissemination and implementation as we scale the treatments throughout a network of Community Mental Health Centers across California. Current active projects include: testing a transdiagnostic sleep treatment for individuals with a severe mental illness in community mental health', ' testing an intervention to improve memory for treatment with the goal of improving outcomes for depression and studying parent-teen conversations about behavior change.\\n\\nIn addition', ' the postdoctoral scholar/s will be mentored to facilitate their transition to an independent research career through the acquisition of writing and presentation skills and through the development of national and international collaborations. The post-docs will be given the opportunity to write-up papers on new and existing data. Also', ' Dr. Harvey is a licensed clinical psychologist in the state of California. Hence', ' she can potentially supervise post-doctoral clinical hours. There will also be opportunities for the incumbent to mentor others in the team (staff and students).\\n\\nRequired qualifications: The successful applicants must have completed all requirements', ' except for the dissertation', ' for a Ph.D. or equivalent', ' in Psychology or related field (e.g.', ' biostatistics)', ' prior to applying', ' and should be prepared to provide proof of conferral of said degree prior to arrival. The following characteristics would also be an asset: excellent organizational and writing skills; demonstrated ability to take initiative and follow through; and experience developing research within community settings. This position offers the opportunity to work in a high quality research environment with strong clinical and scientific collaborations with local and national world-renowned researchers.\\n\\nThis appointment is anticipated to begin as soon as possible', ' but start date is negotiable. Applicants should be willing to commit to a minimum two-year appointment. UC Berkeley requires salaries for postdoctoral scholars meet or exceed the current NIH scale. Salary will be commensurate with experience; benefits', ' including medical', ' dental', ' and vision coverage are included in the compensation package.\\n\\nPlease contact Allison G. Harvey', ' Ph.D. at aharvey@berkeley.edu with questions regarding the positions. Applications will be reviewed on an on-going basis until the position is filled.\\n\\nRequired documents', ' sent to Dr. Allison Harvey (aharvey@berkeley.edu)', ' include your Curriculum Vitae', \" a cover letter describing your research interests and career goals as well as a discussion of the 'fit' between you and the qualities/experience listed above. In particular\", ' please outline the specifics of your quantitative/analytic skills (esp hierarchical linear modeling/multilevel modeling and proficiency in R or Stata) or your experience in dissemination and implementation research.\\n\\nThe University of California is an Equal Opportunity/Affirmative Action Employer. All qualified applicants will receive consideration for employment without regard to race', ' color', ' religion', ' sex', ' national origin', ' disability', ' age or protected veteran status. For the complete University of California nondiscrimination and affirmative action policy see: http://policy.ucop.edu/doc/4000376/NondiscrimAffirmAct']\n"
     ]
    }
   ],
   "source": [
    "print(\"My Resume\")\n",
    "print(my_cv)\n",
    "\n",
    "print(\"\\n************* BEST JOB OFFER ******************\\n\")\n",
    "print(\"Job title\",most_similar_job_offer.title)\n",
    "\n",
    "print(\"\\nMost similar offer bullets\",most_similar_job_offer.body.split(\",\"))\n",
    "\n"
   ]
  },
  {
   "cell_type": "code",
   "execution_count": 11,
   "metadata": {},
   "outputs": [],
   "source": [
    "df[\"cosine_similarity\"] = cosine_similarities"
   ]
  },
  {
   "cell_type": "markdown",
   "metadata": {},
   "source": [
    "## Sort job posting based on similarity and select only the most similar jobs based on a treshold"
   ]
  },
  {
   "cell_type": "code",
   "execution_count": 12,
   "metadata": {},
   "outputs": [
    {
     "data": {
      "text/html": [
       "<div>\n",
       "<style scoped>\n",
       "    .dataframe tbody tr th:only-of-type {\n",
       "        vertical-align: middle;\n",
       "    }\n",
       "\n",
       "    .dataframe tbody tr th {\n",
       "        vertical-align: top;\n",
       "    }\n",
       "\n",
       "    .dataframe thead th {\n",
       "        text-align: right;\n",
       "    }\n",
       "</style>\n",
       "<table border=\"1\" class=\"dataframe\">\n",
       "  <thead>\n",
       "    <tr style=\"text-align: right;\">\n",
       "      <th></th>\n",
       "      <th>title</th>\n",
       "      <th>body</th>\n",
       "      <th>bullets</th>\n",
       "      <th>cosine_similarity</th>\n",
       "    </tr>\n",
       "  </thead>\n",
       "  <tbody>\n",
       "    <tr>\n",
       "      <th>0</th>\n",
       "      <td>Post-doc: Dissemination/implementation and/or ...</td>\n",
       "      <td>Post-doc: Dissemination/implementation and/or ...</td>\n",
       "      <td>()</td>\n",
       "      <td>0.135607</td>\n",
       "    </tr>\n",
       "    <tr>\n",
       "      <th>1</th>\n",
       "      <td>Bioinformatics Associate Data Scientist - San ...</td>\n",
       "      <td>Bioinformatics Associate Data Scientist - San ...</td>\n",
       "      <td>(Work on designing and implementing a framewor...</td>\n",
       "      <td>0.109464</td>\n",
       "    </tr>\n",
       "    <tr>\n",
       "      <th>2</th>\n",
       "      <td>Senior Data Scientist - Authorship - Oakland, CA</td>\n",
       "      <td>Senior Data Scientist - Authorship - Oakland, ...</td>\n",
       "      <td>(Work closely with domain experts, project eng...</td>\n",
       "      <td>0.107245</td>\n",
       "    </tr>\n",
       "    <tr>\n",
       "      <th>3</th>\n",
       "      <td>data scientist - United States</td>\n",
       "      <td>data scientist - United States\\nJob Summary\\nA...</td>\n",
       "      <td>(Excellent understanding of machine learning t...</td>\n",
       "      <td>0.107127</td>\n",
       "    </tr>\n",
       "    <tr>\n",
       "      <th>4</th>\n",
       "      <td>Data Scientist - United States</td>\n",
       "      <td>Data Scientist - United States\\nEV Technologie...</td>\n",
       "      <td>(Selecting features, building and optimizing c...</td>\n",
       "      <td>0.102533</td>\n",
       "    </tr>\n",
       "  </tbody>\n",
       "</table>\n",
       "</div>"
      ],
      "text/plain": [
       "                                               title  \\\n",
       "0  Post-doc: Dissemination/implementation and/or ...   \n",
       "1  Bioinformatics Associate Data Scientist - San ...   \n",
       "2   Senior Data Scientist - Authorship - Oakland, CA   \n",
       "3                     data scientist - United States   \n",
       "4                     Data Scientist - United States   \n",
       "\n",
       "                                                body  \\\n",
       "0  Post-doc: Dissemination/implementation and/or ...   \n",
       "1  Bioinformatics Associate Data Scientist - San ...   \n",
       "2  Senior Data Scientist - Authorship - Oakland, ...   \n",
       "3  data scientist - United States\\nJob Summary\\nA...   \n",
       "4  Data Scientist - United States\\nEV Technologie...   \n",
       "\n",
       "                                             bullets  cosine_similarity  \n",
       "0                                                 ()           0.135607  \n",
       "1  (Work on designing and implementing a framewor...           0.109464  \n",
       "2  (Work closely with domain experts, project eng...           0.107245  \n",
       "3  (Excellent understanding of machine learning t...           0.107127  \n",
       "4  (Selecting features, building and optimizing c...           0.102533  "
      ]
     },
     "execution_count": 12,
     "metadata": {},
     "output_type": "execute_result"
    }
   ],
   "source": [
    "df_sorted = df.sort_values(\"cosine_similarity\",ascending=False).copy()\n",
    "df_sorted.reset_index(inplace=True,drop=True)\n",
    "df_sorted.head()"
   ]
  },
  {
   "cell_type": "markdown",
   "metadata": {},
   "source": [
    "#### Plot cosine similarities"
   ]
  },
  {
   "cell_type": "code",
   "execution_count": 13,
   "metadata": {},
   "outputs": [
    {
     "data": {
      "image/png": "[encoded data removed]",
      "text/plain": [
       "<Figure size 1080x504 with 1 Axes>"
      ]
     },
     "metadata": {
      "needs_background": "dark"
     },
     "output_type": "display_data"
    }
   ],
   "source": [
    " ax = df_sorted.cosine_similarity.plot(\n",
    "     title = \"Cosine similarity job posting to our resume\",\n",
    "     figsize = (15,7),\n",
    "     grid = \"both\"\n",
    ")\n",
    "    \n",
    "_ = ax.set_xlabel(\"job posting index\")\n",
    "_ = ax.set_ylabel(\"cosine similarity\")\n",
    "_ = plt.axvline(100,c=\"r\")"
   ]
  },
  {
   "cell_type": "code",
   "execution_count": 14,
   "metadata": {},
   "outputs": [
    {
     "data": {
      "text/html": [
       "<div>\n",
       "<style scoped>\n",
       "    .dataframe tbody tr th:only-of-type {\n",
       "        vertical-align: middle;\n",
       "    }\n",
       "\n",
       "    .dataframe tbody tr th {\n",
       "        vertical-align: top;\n",
       "    }\n",
       "\n",
       "    .dataframe thead th {\n",
       "        text-align: right;\n",
       "    }\n",
       "</style>\n",
       "<table border=\"1\" class=\"dataframe\">\n",
       "  <thead>\n",
       "    <tr style=\"text-align: right;\">\n",
       "      <th></th>\n",
       "      <th>title</th>\n",
       "      <th>body</th>\n",
       "      <th>bullets</th>\n",
       "      <th>cosine_similarity</th>\n",
       "    </tr>\n",
       "  </thead>\n",
       "  <tbody>\n",
       "    <tr>\n",
       "      <th>0</th>\n",
       "      <td>Post-doc: Dissemination/implementation and/or ...</td>\n",
       "      <td>Post-doc: Dissemination/implementation and/or ...</td>\n",
       "      <td>()</td>\n",
       "      <td>0.135607</td>\n",
       "    </tr>\n",
       "    <tr>\n",
       "      <th>1</th>\n",
       "      <td>Bioinformatics Associate Data Scientist - San ...</td>\n",
       "      <td>Bioinformatics Associate Data Scientist - San ...</td>\n",
       "      <td>(Work on designing and implementing a framewor...</td>\n",
       "      <td>0.109464</td>\n",
       "    </tr>\n",
       "    <tr>\n",
       "      <th>2</th>\n",
       "      <td>Senior Data Scientist - Authorship - Oakland, CA</td>\n",
       "      <td>Senior Data Scientist - Authorship - Oakland, ...</td>\n",
       "      <td>(Work closely with domain experts, project eng...</td>\n",
       "      <td>0.107245</td>\n",
       "    </tr>\n",
       "    <tr>\n",
       "      <th>3</th>\n",
       "      <td>data scientist - United States</td>\n",
       "      <td>data scientist - United States\\nJob Summary\\nA...</td>\n",
       "      <td>(Excellent understanding of machine learning t...</td>\n",
       "      <td>0.107127</td>\n",
       "    </tr>\n",
       "    <tr>\n",
       "      <th>4</th>\n",
       "      <td>Data Scientist - United States</td>\n",
       "      <td>Data Scientist - United States\\nEV Technologie...</td>\n",
       "      <td>(Selecting features, building and optimizing c...</td>\n",
       "      <td>0.102533</td>\n",
       "    </tr>\n",
       "  </tbody>\n",
       "</table>\n",
       "</div>"
      ],
      "text/plain": [
       "                                               title  \\\n",
       "0  Post-doc: Dissemination/implementation and/or ...   \n",
       "1  Bioinformatics Associate Data Scientist - San ...   \n",
       "2   Senior Data Scientist - Authorship - Oakland, CA   \n",
       "3                     data scientist - United States   \n",
       "4                     Data Scientist - United States   \n",
       "\n",
       "                                                body  \\\n",
       "0  Post-doc: Dissemination/implementation and/or ...   \n",
       "1  Bioinformatics Associate Data Scientist - San ...   \n",
       "2  Senior Data Scientist - Authorship - Oakland, ...   \n",
       "3  data scientist - United States\\nJob Summary\\nA...   \n",
       "4  Data Scientist - United States\\nEV Technologie...   \n",
       "\n",
       "                                             bullets  cosine_similarity  \n",
       "0                                                 ()           0.135607  \n",
       "1  (Work on designing and implementing a framewor...           0.109464  \n",
       "2  (Work closely with domain experts, project eng...           0.107245  \n",
       "3  (Excellent understanding of machine learning t...           0.107127  \n",
       "4  (Selecting features, building and optimizing c...           0.102533  "
      ]
     },
     "execution_count": 14,
     "metadata": {},
     "output_type": "execute_result"
    }
   ],
   "source": [
    "most_similar_df = df_sorted.iloc[:100].copy()\n",
    "most_similar_df.head()"
   ]
  },
  {
   "cell_type": "code",
   "execution_count": 15,
   "metadata": {},
   "outputs": [
    {
     "name": "stderr",
     "output_type": "stream",
     "text": [
      "/home/michal/anaconda3/lib/python3.7/site-packages/pandas/core/strings.py:1843: UserWarning: This pattern has match groups. To actually get the groups, use str.extract.\n",
      "  return func(self, *args, **kwargs)\n"
     ]
    }
   ],
   "source": [
    "# Check filtering from 1 step. result = 100 \n",
    "assert most_similar_df[most_similar_df['title'].str.contains('(data scientist)|(data science)', case=False)].shape == most_similar_df.shape"
   ]
  },
  {
   "cell_type": "code",
   "execution_count": 16,
   "metadata": {},
   "outputs": [],
   "source": [
    "# Save to  :) \n",
    "most_similar_df.to_pickle('../data/step2_df.pk')"
   ]
  },
  {
   "cell_type": "code",
   "execution_count": null,
   "metadata": {},
   "outputs": [],
   "source": []
  },
  {
   "cell_type": "code",
   "execution_count": null,
   "metadata": {},
   "outputs": [],
   "source": []
  }
 ],
 "metadata": {
  "kernelspec": {
   "display_name": "Python 3",
   "language": "python",
   "name": "python3"
  },
  "language_info": {
   "codemirror_mode": {
    "name": "ipython",
    "version": 3
   },
   "file_extension": ".py",
   "mimetype": "text/x-python",
   "name": "python",
   "nbconvert_exporter": "python",
   "pygments_lexer": "ipython3",
   "version": "3.7.5"
  }
 },
 "nbformat": 4,
 "nbformat_minor": 2
}
